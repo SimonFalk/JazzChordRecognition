{
  "cells": [
    {
      "cell_type": "code",
      "execution_count": null,
      "metadata": {
        "id": "PwiK0R7fG-bq"
      },
      "outputs": [],
      "source": [
        "# Imports\n",
        "\n",
        "import os\n",
        "import time\n",
        "import json\n",
        "import re\n",
        "\n",
        "import numpy as np\n",
        "import seaborn as sns\n",
        "import matplotlib.pyplot as plt\n",
        "from sklearn import metrics, model_selection"
      ]
    },
    {
      "cell_type": "markdown",
      "metadata": {
        "id": "ceYj9TqNG-cP"
      },
      "source": [
        "# Jazz chord recognition\n",
        "\n",
        "### Project in course DT2470 Music Informatics\n",
        "\n",
        "Simon Falk, simonfal@kth.se\n",
        "\n",
        "Make sure the folder project_data_simonfal is in the same directory as this notebook, please.\n",
        "\n",
        "## Summary\n",
        "\n",
        "In this project I investigated if it's possible to retrieve chord symbols from chroma features by learning from large amounts of annotated data. The dataset used consists of chroma features and chord annotations for 112 jazz songs. I have not chosen this dataset because it's suitable for chord recognition, rather on the contrary, jazz chords are intrinsically hard to classify (even for the human ear).\n",
        "\n",
        "## Feature and label extraction\n",
        "\n",
        "Audio was sampled at 44.1 kHz and then processed by the short-time Fourier transform with a hop size of 2048 frames to give a chromagram with 21.53 chroma vectors per second. (Not done by me, but according to documentation it was done this way.) I will call the set of chroma vectors $X = [x_i^{(1)} x_i^{(2)} \\dots x_i^{(12)}]_{i=1 \\dots N}$, and $N$ is the total number of chroma vectors for all songs.\n",
        "\n",
        "The chroma vectors were then logarithmically compressed using $\\gamma=10$.\n",
        "\n",
        "I grouped the different chords into 5 classes:\n",
        "* major\n",
        "* minor\n",
        "* dominant-seventh\n",
        "* half-diminished\n",
        "* diminished\n",
        "\n",
        "These classes have support from jazz music theory and were proposed by the authors (Eremenko et. al, 2018) of the dataset. Now, there were a lot of chords in the annotations that had abbreviations like `F#:(3, #5, b7, 11)` or something alike. (The numbers denote inside the parentheses denote intervals from the root of the chord.) Since I both felt I would spend too time writing a string processing algorithm and also that I was unsure how to classify these more exotic chords into the five base classes, I would discard those chords.\n",
        "\n",
        "Each chord maps to a number from 1 to 60 corresponding to the 12 different keys and the five different chord groups. Aligning everything to the feature rate of the chromas, we get a label vector $y$ of the same length as the feature vector $X$."
      ]
    },
    {
      "cell_type": "code",
      "execution_count": null,
      "metadata": {
        "id": "tMLexi38G-cT"
      },
      "outputs": [],
      "source": [
        "pre_path = ''\n",
        "dataset_path = 'project_data_simonfal/JAAH-master/'\n",
        "features_path = pre_path + dataset_path + 'features/'\n",
        "annotations_path = pre_path + dataset_path + 'annotations/'\n"
      ]
    },
    {
      "cell_type": "code",
      "execution_count": null,
      "metadata": {
        "id": "CivTsMjWG-ch"
      },
      "outputs": [],
      "source": [
        "db_file = open(features_path + 'db.json', 'r')\n",
        "songs = json.load(db_file)\n",
        "db_file.close()"
      ]
    },
    {
      "cell_type": "code",
      "execution_count": null,
      "metadata": {
        "id": "QD6S2g_rG-cr",
        "scrolled": false
      },
      "outputs": [],
      "source": [
        "def flatten_and_align(parts_list):\n",
        "    '''\n",
        "    Nested list is flattened into a single list and \n",
        "    chord chart syntax is interpreted.\n",
        "    \n",
        "    Input: List of different parts of the song,\n",
        "    each consisting of a dictionary {beats: [], chords: []}\n",
        "    holding two lists mapping each chord to a time code of the song.\n",
        "    Output: (t, C)\n",
        "    where t :    1d numpy array of time codes\n",
        "    and   C :    1d numpy array of chord symbols (string)\n",
        "    '''\n",
        "    t = []\n",
        "    C = []\n",
        "    \n",
        "    for i, part in enumerate(parts_list):\n",
        "        if len(t) > 0:\n",
        "            assert part[\"beats\"][0] > t[-1]\n",
        "        times = part[\"beats\"]\n",
        "        \n",
        "        chord_str = \"\".join(part[\"chords\"])\n",
        "        measures = re.split('\\|{1,2}',chord_str)[1:-1]\n",
        "        chords = []\n",
        "        for m in measures:\n",
        "            chord_set = re.split(' ', m)[:-1]\n",
        "            if len(chord_set) == 1:\n",
        "                chord_set = 4 * chord_set\n",
        "            elif len(chord_set) == 2:\n",
        "                chord_set = 2 * [chord_set[0]] + 2 * [chord_set[1]]\n",
        "            chords.extend(chord_set)\n",
        "            \n",
        "        if len(times) != len(chords):\n",
        "            t.extend(times)\n",
        "            C.extend([\"N\"]*len(times))\n",
        "        else:\n",
        "            t.extend(times)\n",
        "            C.extend(chords)\n",
        "    \n",
        "    t = np.array(t)\n",
        "    C = np.array(C)\n",
        "    return t, C\n",
        "\n",
        "\n",
        "def frame_chords(n_of_frames, feature_rate, time_vector, chord_vector):\n",
        "    '''\n",
        "    List of chords and time codes are aligned to the time codes related to\n",
        "    the rate with which features are given.\n",
        "    \n",
        "    Input: (n_of_frames, feature_rate, time_vector, chord_vector)\n",
        "    where n_of_frames  :    length of feature sequence,\n",
        "          feature_rate :    # features per seconds,\n",
        "          time_vector  :    list of time codes,\n",
        "          chord_vector :    list of chord symbols. \n",
        "    The two lastmentionened have the same length.\n",
        "    \n",
        "    Output: list of chords symbols having same length as feature sequence.\n",
        "    \n",
        "    '''\n",
        "    C_t = []\n",
        "    pointer = 0\n",
        "    \n",
        "    for n in range(n_of_frames):\n",
        "        t = n*1.0/feature_rate\n",
        "        t_mid = (n+0.5)/feature_rate\n",
        "        \n",
        "        if np.abs(time_vector[pointer] - t_mid) <= 0.5/feature_rate:\n",
        "            C_t.append(chord_vector[pointer])\n",
        "            pointer += 1\n",
        "        else:\n",
        "            if pointer == 0:\n",
        "                C_t.append('N')\n",
        "            else:\n",
        "                C_t.append(chord_vector[pointer-1])\n",
        "    return C_t\n",
        "\n",
        "\n",
        "def number_chords(chord_vector):\n",
        "    '''\n",
        "    Translate a sequence of chord symbols into sequence of integers\n",
        "    where we have defined a map between chords and numbers\n",
        "    \n",
        "    Input: list of chords\n",
        "    Output: list of indices\n",
        "    '''\n",
        "    note_names = ['C','C#','D','Eb','E','F','F#','G','G#','A','Bb','B']\n",
        "    note_dict = {\n",
        "        'C' : 0,\n",
        "        'C#' : 1,\n",
        "        'Db' : 1,\n",
        "        'D' : 2,\n",
        "        'D#' : 3,\n",
        "        'Eb' : 3,\n",
        "        'E' : 4,\n",
        "        'F' : 5,\n",
        "        'F#' : 6,\n",
        "        'Gb' : 6,\n",
        "        'G' : 7,\n",
        "        'G#' : 8,\n",
        "        'Ab' : 8,\n",
        "        'A' : 9,\n",
        "        'A#' : 10,\n",
        "        'Bb' : 10,\n",
        "        'B' : 11\n",
        "    }\n",
        "    qual_dict = {\n",
        "        'maj7' : 0,\n",
        "        'maj7/3' : 0,\n",
        "        'maj6' : 0,\n",
        "        'maj9' : 0,\n",
        "        'min' : 1,\n",
        "        'min7' : 1,\n",
        "        'min6' : 1,\n",
        "        'minmaj7' : 1,\n",
        "        'min9' : 1,\n",
        "        '7' : 2,\n",
        "        '9' : 2,\n",
        "        '7/5' : 2,\n",
        "        'aug' : 2,\n",
        "        'hdim7' : 3,\n",
        "        'dim7': 4,\n",
        "        'dim' : 4\n",
        "    }\n",
        "    indices = []\n",
        "    count_labeled = 0\n",
        "    for chord_str in chord_vector:\n",
        "        if re.match('N', chord_str):\n",
        "            indices.append(0)\n",
        "            count_labeled += 1\n",
        "        else:\n",
        "            splitted = chord_str.split(\":\")\n",
        "            if len(splitted) == 1:\n",
        "                quality = 0\n",
        "            else:\n",
        "                if splitted[1][0] == '(':\n",
        "                    indices.append(0)\n",
        "                    continue\n",
        "                else:\n",
        "                    quality = qual_dict[splitted[1].split(\"/\")[0]]\n",
        "            count_labeled += 1\n",
        "            try:\n",
        "                note = note_dict[splitted[0]] + 1\n",
        "                indices.append(note + quality*12)\n",
        "            except KeyError:\n",
        "                indices.append(0)\n",
        "            \n",
        "    labeled_ratio = count_labeled/len(chord_vector)\n",
        "    return indices, labeled_ratio\n",
        "\n",
        "\n",
        "def compress_log(values, gamma=1):\n",
        "    '''values is a np array, \n",
        "    gamma is the compression constant'''\n",
        "    return np.log(np.ones(values.shape) + gamma*values)"
      ]
    },
    {
      "cell_type": "code",
      "execution_count": null,
      "metadata": {
        "id": "19qJmw3-G-dA"
      },
      "outputs": [],
      "source": [
        "def retrieve_data(gamma=10):\n",
        "    X_src = np.zeros((0,12))\n",
        "    y_src = np.zeros((0))\n",
        "    starting_points = []\n",
        "    idx = 0\n",
        "    for song_obj in songs[:32] + songs[33:64] + songs[65:]:\n",
        "        song_name = song_obj['nnls_chroma']['path'].split('.')[0]\n",
        "        step_size = int(song_obj['nnls_chroma']['step_size'])\n",
        "        sample_rate = int(song_obj['nnls_chroma']['sample_rate'])\n",
        "        feature_rate = sample_rate * 1.0 / step_size\n",
        "        \n",
        "        if os.path.isfile(features_path + song_name + '.csv'):\n",
        "            chroma_file = open(features_path + song_name + '.csv')\n",
        "            chroma_raw = chroma_file.readlines()\n",
        "            chroma_file.close()\n",
        "        \n",
        "        song_chroma = []\n",
        "        for i in range(len(chroma_raw)):\n",
        "            song_chroma.append([\n",
        "                                float(ele) for ele in \n",
        "                                chroma_raw[i].strip().split(',')[1:]\n",
        "            ])\n",
        "        \n",
        "        song_chroma = compress_log(np.array(song_chroma), gamma=gamma)\n",
        "        \n",
        "        # Collect annotations\n",
        "        if os.path.isfile(annotations_path + song_name + '.json'):\n",
        "            json_file = open(annotations_path + song_name + '.json')\n",
        "            noted_obj = json.load(json_file)\n",
        "            json_file.close()\n",
        "        \n",
        "        t, C = flatten_and_align(noted_obj.pop(\"parts\"))\n",
        "        if len(t) > 2:\n",
        "            frames_retrieved = len(t)\n",
        "            t_of_last_retrieval = t[-1]\n",
        "            frames_used = min(len(song_chroma), int(t[-1]*feature_rate-1))\n",
        "            F = frame_chords(frames_used, feature_rate, t, C)\n",
        "            chord_indices, ratio = number_chords(F)\n",
        "            y_src = np.concatenate((y_src, np.array(chord_indices)))\n",
        "        else:\n",
        "            frames_retrieved = 0\n",
        "            frames_used = 0\n",
        "        \n",
        "        X_src = np.concatenate((X_src, song_chroma[:frames_used]))\n",
        "        idx += 1\n",
        "        \n",
        "    return X_src, y_src"
      ]
    },
    {
      "cell_type": "code",
      "execution_count": null,
      "metadata": {
        "id": "kub5IIdYI2Bv"
      },
      "outputs": [],
      "source": [
        "def nan_process(X,y):\n",
        "    # Throw away data labeled as NAN\n",
        "    nan_idx = np.where(y==0)[0]\n",
        "    y_clean = np.delete(y, nan_idx)\n",
        "    X_clean = np.delete(X, nan_idx, axis=0)\n",
        "    y_0 = np.subtract(y_clean, [1]).astype(int)\n",
        "    # y now goes from 0 to 59 instead of 1 to 60\n",
        "    return (X_clean, y_0)\n"
      ]
    },
    {
      "cell_type": "markdown",
      "metadata": {
        "id": "ca9Zj2NTLBJF"
      },
      "source": [
        "## Method 1 - using class mean similarity\n",
        "\n",
        "This method is taken from chapter 5.2 in Müller's textbook and makes use of templates, which are supposed to hold the correct representation of a particular chord. The templates used here will be inferred by taking the mean of all chromas belonging to a certain class (having a certain value of $y$ in the range 1 to 60).\n",
        "\n",
        "We try to mitigate the problem that there are a lot of F chords and only a few F# chords to learn from, by shifting all chords down to C by cyclic permutation, before taking the mean. This is common practice in chord recognition literature. We thus get one mean for major chords, one for minor chords and so on. Before moving on we also have to permute each of the mean vectors back to all 12 keys, resulting in 60 template vectors ${t_1, t_2, \\dots t_{60}}$. We have also normalized each template vector so that the sum over all 12 components is 1. For future reasons define the 60x12 matrix $\\mathbf{T}$ through $T^T=[t_1 | t_2 | \\dots | t_{60}]$\n",
        "\n",
        "Müller proposes that we for classification compute the cosine similarity $$s(x,y) = \\frac{x\\cdot y}{\\|x\\| \\cdot \\|y\\|}$$ between each 12-dimensional test vector $v$ and each of the templates vectors, and then assigns $v$ to the class $\\hat{y}$ for which this similarity value is largest. To simplify computations we rewrite this in matrix notation as $$\\hat{y} = \\arg \\max_i [\\mathbf{T} v^T]_i$$"
      ]
    },
    {
      "cell_type": "code",
      "execution_count": null,
      "metadata": {
        "id": "G9STr00cG-dF",
        "scrolled": false
      },
      "outputs": [],
      "source": [
        "def sim_train(X_train,y_train):\n",
        "\n",
        "    def decode_i(i):\n",
        "        return (i//12, i%12)\n",
        "\n",
        "    def encode_i(q, n):\n",
        "        return q*12 + n\n",
        "\n",
        "    # Produce y vector per quality\n",
        "    # and modify X matrix so all chords are in C\n",
        "\n",
        "    y_qual = np.zeros_like(y_train)\n",
        "    X_shifted = np.zeros_like(X_train)\n",
        "\n",
        "    for i in range(60):\n",
        "        q, n = decode_i(i)\n",
        "        # Index set of members of specific class\n",
        "        idx = np.where(y_train == i)[0]\n",
        "        if len(idx) == 0: # if there is no data for that chord\n",
        "            continue\n",
        "        X_idx = np.take(X_train, idx, axis=0)\n",
        "        y_qual[idx] = q\n",
        "        X_shifted[idx] = np.roll(X_idx, -n)\n",
        "\n",
        "    # compute mean and standard deviation\n",
        "    means_flat = np.zeros((60,12))\n",
        "    stds_flat = np.zeros((60,12))\n",
        "    covs = np.zeros((60,12,12))\n",
        "\n",
        "    for q in range(0,5): # disregard NAN class\n",
        "        idx = np.where(y_qual == q)[0]\n",
        "        X_idx = np.take(X_shifted, idx, axis=0)\n",
        "        means_flat[encode_i(q, 0)] = np.mean(X_idx, axis=0)\n",
        "        stds_flat[encode_i(q, 0)] = np.std(X_idx, axis=0, ddof=1)\n",
        "        covs[encode_i(q, 0)] = np.cov(X_idx, rowvar=False)\n",
        "        '''\n",
        "        # Uncomment to see how the mean vectors look like\n",
        "        quals = [\"Maj\",\"Min\",\"Dom7\",\"Minb5\",\"Dim\"]\n",
        "        plt.title(quals[q])\n",
        "        plt.pcolormesh([np.mean(X_idx, axis=0)])\n",
        "        plt.colorbar()\n",
        "        \n",
        "        plt.xticks(np.arange(12), ['C','C#','D','Eb','E','F','F#','G','Ab','A','Bb','B'])\n",
        "        plt.show()\n",
        "        '''\n",
        "\n",
        "        for n in range(1, 12):\n",
        "            # roll means and std over all notes\n",
        "            i_current = encode_i(q, n)\n",
        "            i_base = encode_i(q, 0)\n",
        "            means_flat[i_current] = np.roll(means_flat[i_base], n)\n",
        "            stds_flat[i_current] = np.roll(stds_flat[i_base], n)\n",
        "            covs[i_current] = np.cov(np.roll(X_idx, n, axis=1), rowvar=False)\n",
        "\n",
        "    return means_flat, stds_flat, covs\n"
      ]
    },
    {
      "cell_type": "code",
      "execution_count": null,
      "metadata": {
        "id": "ew2U4i4GeJMV"
      },
      "outputs": [],
      "source": [
        "def sim_test(X_test, T):\n",
        "    T_norm = np.reciprocal(np.linalg.norm(T, axis=1))\n",
        "    T_norm[0] = 0\n",
        "    labels = []\n",
        "    for n in range(len(y_test)):\n",
        "        labels.append(np.argmax(np.multiply(T_norm,T@X_test[n].T)))\n",
        "    return labels"
      ]
    },
    {
      "cell_type": "markdown",
      "metadata": {
        "id": "eM7M0KlEPe4O"
      },
      "source": [
        "## Results\n",
        "\n",
        "We divided the availiable data into a training and a test set (80/20) and obtained the labels $\\hat{y}$ as explained in the section above. This was repeated 10 times in which the splits was repeated. This simple classification algorithm was not impressively good at classifying the chords correctly. About 18% of the chords were correctly classified, as shown below."
      ]
    },
    {
      "cell_type": "code",
      "execution_count": null,
      "metadata": {
        "colab": {
          "base_uri": "https://localhost:8080/",
          "height": 284
        },
        "id": "P3TDRI1WO8y6",
        "outputId": "00f6fe20-3120-4fc3-d252-8146db4e8d68"
      },
      "outputs": [
        {
          "data": {
            "image/png": "[encoded data removed]",
            "text/plain": [
              "<Figure size 432x288 with 1 Axes>"
            ]
          },
          "metadata": {
            "needs_background": "light"
          },
          "output_type": "display_data"
        }
      ],
      "source": [
        "scores = np.zeros((10))\n",
        "for n in range(10):\n",
        "    X_src, y_src = retrieve_data()\n",
        "    X, y = nan_process(X_src, y_src)\n",
        "    X_train, X_test, y_train, y_test = model_selection.train_test_split(\n",
        "        X, y , test_size=0.2)\n",
        "    T, _, _ = sim_train(X_train, y_train)\n",
        "    labels = sim_test(X_test, T)\n",
        "    scores[n] = metrics.accuracy_score(y_test, labels)\n",
        "plt.title(\"Overall classification accuracy\")\n",
        "plt.boxplot(scores)\n",
        "plt.show()"
      ]
    },
    {
      "cell_type": "markdown",
      "metadata": {
        "id": "feZCWHBxYHYX"
      },
      "source": [
        "The chord classes are made up of two \"properties\" - key, and quality. A question is whether the algorithm was able to recognize any of the two properties better than the other. One could argue that key should be more distinguishable, since 1) it is more tightly linked to the information from the chromagram and 2) the division of chord classes into qualities was somwhat arbitrarily done and the mutual similarity between template chords is high.\n",
        "\n",
        "The confusion matrix below is defined so that element (i,j) tells the relative frequency of assigning class j to a vector that was in fact of class i, normalized w.r.t. the number the class was predicted. Given that we predict X to be a certain class k, this table now tells us the probability of the class actually being k. The matrix is visualized as a diagram with bright colors indicating high values. Here we might be tempted to say that our suspicion was right. When we make a prediction for a certain chord quality, often it turns out that some of the other classes was in fact correct, whereas when we predict for a certain key the true keys are better aligned with the predicted ones.\n"
      ]
    },
    {
      "cell_type": "code",
      "execution_count": null,
      "metadata": {
        "colab": {
          "base_uri": "https://localhost:8080/",
          "height": 232
        },
        "id": "I9Rr_SkeLBJM",
        "outputId": "4e81d8a8-69ed-45b4-cdaf-eacedfc4db96"
      },
      "outputs": [
        {
          "data": {
            "image/png": "[encoded data removed]",
            "text/plain": [
              "<Figure size 288x288 with 1 Axes>"
            ]
          },
          "metadata": {
            "needs_background": "light"
          },
          "output_type": "display_data"
        },
        {
          "data": {
            "image/png": "[encoded data removed]",
            "text/plain": [
              "<Figure size 288x288 with 1 Axes>"
            ]
          },
          "metadata": {
            "needs_background": "light"
          },
          "output_type": "display_data"
        }
      ],
      "source": [
        "X_src, y_src = retrieve_data()\n",
        "X, y = nan_process(X_src, y_src)\n",
        "X_train, X_test, y_train, y_test = model_selection.train_test_split(\n",
        "    X, y , test_size=0.2)\n",
        "T, _, _ = sim_train(X_train, y_train)\n",
        "labels = sim_test(X_test, T)\n",
        "scores[n] = metrics.accuracy_score(y_test, labels)\n",
        "\n",
        "y_test_quals = [y//12 for y in y_test]\n",
        "labels_quals = [y//12 for y in labels]\n",
        "\n",
        "y_test_keys = [y%12 for y in y_test]\n",
        "labels_keys = [y%12 for y in labels]\n",
        "\n",
        "plt.matshow(metrics.confusion_matrix(y_test_quals,labels_quals, normalize='pred'))\n",
        "plt.xticks(np.arange(5),[\"Maj\",\"Min\",\"Dom7\",\"Minb5\",\"Dim\"])\n",
        "plt.yticks(np.arange(5),[\"Maj\",\"Min\",\"Dom7\",\"Minb5\",\"Dim\"])\n",
        "plt.show()\n",
        "plt.matshow(metrics.confusion_matrix(y_test_keys,labels_keys, normalize='pred'))\n",
        "plt.xticks(np.arange(12),['C','C#','D','Eb','E','F','F#','G','G#','A','Bb','B'])\n",
        "plt.yticks(np.arange(12),['C','C#','D','Eb','E','F','F#','G','G#','A','Bb','B'])\n",
        "plt.show()"
      ]
    },
    {
      "cell_type": "markdown",
      "metadata": {
        "id": "_wEZjZZzcf59"
      },
      "source": [
        "However, the big issue here is that the dataset is skewed, i.e. the class sizes are highly uneven. Therefore the dark parts of the matrix might just be a cause of that class having very few samples in the dataset. This is a point where some improvement for the chord recognition algorithm could be made, and we will discuss this more later. As a final experiment on method 1, we will investigate the effect of changing the compression parameter $\\gamma$, which controls how much the peak value of the chromagram should stand out compare to the other values. We try 3 different parameters for $\\gamma$ and note that accuracy seems to go down with increasing values. This suggests that the algorithm work better with more contrast between components."
      ]
    },
    {
      "cell_type": "code",
      "execution_count": null,
      "metadata": {
        "colab": {
          "base_uri": "https://localhost:8080/",
          "height": 285
        },
        "id": "PNgkb0Jc5wJD",
        "outputId": "25f10607-d385-4803-9ce5-975097cfcadf"
      },
      "outputs": [
        {
          "data": {
            "image/png": "[encoded data removed]",
            "text/plain": [
              "<Figure size 432x288 with 1 Axes>"
            ]
          },
          "metadata": {
            "tags": []
          },
          "output_type": "display_data"
        }
      ],
      "source": [
        "# Testing different values of compression parameter gamma\n",
        "scores = np.zeros((3,10))\n",
        "for g, gamma in enumerate([1,10,100]):\n",
        "    for n in range(10):\n",
        "        X_src, y_src = retrieve_data(gamma=gamma)\n",
        "        X, y = nan_process(X_src, y_src)\n",
        "        X_train, X_test, y_train, y_test = train_test_split(\n",
        "            X, y , test_size=0.2)\n",
        "        T, _, _ = sim_train(X_train, y_train)\n",
        "        labels = sim_test(X_test, T)\n",
        "        scores[g][n] = metrics.accuracy_score(y_test, labels)\n",
        "\n",
        "plt.boxplot(scores.T)\n",
        "plt.xlabel(\"Gamma parameter values\")\n",
        "plt.xticks([1,2,3],[1,10,100])\n",
        "plt.ylabel(\"Accuracy score\")\n",
        "plt.show()"
      ]
    },
    {
      "cell_type": "markdown",
      "metadata": {
        "id": "E5hwlzU-LBJV"
      },
      "source": [
        "## Method 2 - with a HMM model\n",
        "\n",
        "A Hidden Markov Model (HMM) is proposed in Müller's textbook as another solution to the chord recognition problem. In chaper 5.3 he suggests modelling the chord classes as hidden states and chroma expressions as observations. This HMM reflects both the dependence of the previous chord for estimating the next, and that the true state of a particular chord is hidden and is only seen through chromagrams. If we could shuffle our data for the train/test split in Method 1, this would be unappropriate for Method 2. Now we want our data to reflect the relative alignment in time of the chroma vectors.\n",
        "\n",
        "There are different methods for learning the HMM parameters $\\mathbf{A}$, $\\mathbf{B}$ and $\\mathbf{\\pi}$. Firstly, regarding $\\mathbf{A}$ (the matrix of transmission probabilities), one simple method is to count bigrams - i.e. the number of times one chord comes after another in the annotations. Secondly, the observation space is modelled as a multivariate gaussian distribution, making use of the class means we calculated for Method 1. The covariance matrix can't be limited to a diagonal matrix: assuming independence among regressors would be unjustified, just because a note being played would influence the chroma components of all its harmonics. In this approach, we don't train our Gaussian parameters in the Baum-Welch algorithm, since we assume that they already reflect the totality of our training data as they were computed from Method 1.\n",
        "\n",
        "One could choose to train the transmission probabilities $\\mathbf{A}$ inside the Baum-Welch. But this is essentially a very similar procedure as bigram counting, since Baum-Welch reestimates $\\mathbf{A}$ based on how many transmissions was made from one state to another. Simulations showed similar accuracy for both approaches but the BW approach was much more computation-heavy. Also, when we do bigram counting, we also infer the knowledge that going from a chord to another should be independent of key. Therefore we count how frequently each *chord quality*, independent of key, transmits to one of the 60 chord classes. Thereafter we assume that these transmissions per quality can be applied to all 12 keys, by cyclic permutation:\n",
        "\n"
      ]
    },
    {
      "cell_type": "code",
      "execution_count": null,
      "metadata": {
        "id": "NuZTHW6aG-dZ"
      },
      "outputs": [],
      "source": [
        "def count_bigrams(y_train):\n",
        "    # Transmission frequency per quality\n",
        "    trans_per_q = np.zeros((5,60))\n",
        "    for n in range(len(y_train)-1):\n",
        "        i = int(y_train[n])//12 # Chord quality index\n",
        "        j = int(y_train[n+1])\n",
        "\n",
        "        trans_per_q[i][j] += 1\n",
        "\n",
        "    trans_per_q = trans_per_q/trans_per_q.sum(axis=1)[:,None]\n",
        "    \n",
        "    # Transmission frequency for every key\n",
        "    trans = np.zeros((60,60))\n",
        "    for i in range(60):\n",
        "        trans[i] = np.concatenate((np.roll(trans_per_q[i//12,:12],i%12),\n",
        "                                            np.roll(trans_per_q[i//12,12:24],i%12),\n",
        "                                            np.roll(trans_per_q[i//12,24:36],i%12),\n",
        "                                            np.roll(trans_per_q[i//12,36:48],i%12),\n",
        "                                            np.roll(trans_per_q[i//12,48:60],i%12)))\n",
        "    return trans"
      ]
    },
    {
      "cell_type": "markdown",
      "metadata": {
        "id": "F9PcFItiIb59"
      },
      "source": [
        "Another method to model the *observation space* would be to consider discrete emissions and quantize the chroma space with for example k-means algorithm. But then we would still need some way of mapping clusters to chord labels. Because what is given in the Viterbi algorithm is the most probable observation sequence, using our observation alphabet. Given that we have, say 60 clusters, how could we reasonably compare the most probable path among those clusters, to the true sequence of labeled chords? That is for me a conceptual problem. On the other hand, modelling the observation space differently might help to alleviate the effects of a skewed data set. \n",
        "\n",
        "## Results\n",
        "\n",
        "We trained our 60-state HMM model using bigram counting and continous observations assumed normal distributed. We should have repeated the experiment with randomized splits of the data and new initial conditions (as the training might get stuck in local optimum). We didn't have the computing power and the time to do that at this point. The training being so time-consuming made it hard to optimize the parameter setting. At one time the accuracy was 25% and at another it was 10%.\n",
        "\n",
        "We also show the same pair of confusion matrices as in Method 1. We suspects that the uneveness of this matrix is more a sign of skewed data than anything else."
      ]
    },
    {
      "cell_type": "code",
      "execution_count": null,
      "metadata": {
        "id": "LZtJTulRG-dd",
        "scrolled": true
      },
      "outputs": [],
      "source": [
        "from hmmlearn.hmm import GaussianHMM\n",
        "\n",
        "X_src, y_src = retrieve_data()\n",
        "X, y = nan_process(X_src, y_src)\n",
        "\n",
        "\n",
        "X_train, X_test, y_train, y_test = model_selection.train_test_split(\n",
        "    X, y , test_size=0.2, shuffle=False)\n",
        "model = GaussianHMM(n_components=60,\n",
        "                covariance_type='full',\n",
        "                init_params='s',\n",
        "                params=''\n",
        "                )\n",
        "model.transmat_ = count_bigrams(y_train)\n",
        "model.means_, _, model.covars_ = sim_train(X_train, y_train)\n",
        "model.fit(X_train)\n",
        "hmm_labels = model.decode(X_test)[1]\n"
      ]
    },
    {
      "cell_type": "code",
      "execution_count": null,
      "metadata": {
        "colab": {
          "base_uri": "https://localhost:8080/"
        },
        "id": "XfuKjHBALBJh",
        "outputId": "93c9a38c-0574-426c-b093-ea3fec3ac7f3"
      },
      "outputs": [
        {
          "data": {
            "text/plain": [
              "0.17238465736062947"
            ]
          },
          "execution_count": 17,
          "metadata": {},
          "output_type": "execute_result"
        }
      ],
      "source": [
        "metrics.accuracy_score(y_test, hmm_labels)"
      ]
    },
    {
      "cell_type": "code",
      "execution_count": null,
      "metadata": {
        "id": "5MsEwKjNLBJ0",
        "outputId": "b28d5d33-3576-4c95-f98a-46545ee56185"
      },
      "outputs": [
        {
          "data": {
            "image/png": "[encoded data removed]",
            "text/plain": [
              "<Figure size 288x288 with 1 Axes>"
            ]
          },
          "metadata": {
            "needs_background": "light"
          },
          "output_type": "display_data"
        },
        {
          "data": {
            "image/png": "[encoded data removed]",
            "text/plain": [
              "<Figure size 288x288 with 1 Axes>"
            ]
          },
          "metadata": {
            "needs_background": "light"
          },
          "output_type": "display_data"
        }
      ],
      "source": [
        "true_quals = [y//12 for y in y_test]\n",
        "hmm_quals = [y//12 for y in hmm_labels]\n",
        "\n",
        "true_keys = [y%12 for y in y_test]\n",
        "hmm_keys = [y%12 for y in hmm_labels]\n",
        "\n",
        "plt.matshow(metrics.confusion_matrix(true_quals,hmm_quals, normalize='pred'))\n",
        "plt.xticks(np.arange(5),[\"Maj\",\"Min\",\"Dom7\",\"Minb5\",\"Dim\"])\n",
        "plt.yticks(np.arange(5),[\"Maj\",\"Min\",\"Dom7\",\"Minb5\",\"Dim\"])\n",
        "plt.show()\n",
        "plt.matshow(metrics.confusion_matrix(true_keys,hmm_keys, normalize='pred'))\n",
        "plt.xticks(np.arange(12),['C','C#','D','Eb','E','F','F#','G','G#','A','Bb','B'])\n",
        "plt.yticks(np.arange(12),['C','C#','D','Eb','E','F','F#','G','G#','A','Bb','B'])\n",
        "plt.show()"
      ]
    },
    {
      "cell_type": "markdown",
      "metadata": {
        "id": "UMvb5Z13jJKB"
      },
      "source": [
        "## Some last words\n",
        "\n",
        "The fact that there are so many chroma expressions that go with a certain seventh chord makes it very difficult to build a chord classification algorithm. Especially in the jazz context, the content of the chromas could be notes belonging far outside the prototype of the chord, and even so the author of the annotations could easily classify what chord is played hearing its context, the bass note etc. A lot of training is needed even for a skilled musician, in order to accurately classify chords.\n",
        "\n",
        "Also chromas are seen as vectors in $\\mathbb{R}^{12}$ making it hard to get an intuition for what is the best way of measuring similarity. Here we are using mean vectors and scalar products, but does it acutally reflect the essence of a \"prototype chord chroma\"? Another interesting approach would be to set a limit for how much the magnitude value can deviate from some standard, and then only consider the elements that are large enough, making a binary vector. (For example only considering C, E, G if those chroma elements are largest). That would lead to us introducing bias on the model, but that would hopefully deal with the fact that there might be some parameters that are unnecessary. \n",
        "\n",
        "## References\n",
        "\n",
        "Eremenko V, Demirel E, Bozkurt B, Serra X. 2018. AUDIO-ALIGNED JAZZ HARMONY DATASET FOR AUTOMATIC\n",
        "CHORD TRANSCRIPTION AND CORPUS-BASED RESEARCH. Proceedings of the 19th ISMIR Conference, Paris, France. pp 483-490.\n",
        "\n"
      ]
    }
  ],
  "metadata": {
    "colab": {
      "collapsed_sections": [],
      "name": "PROJECT_simonfal.ipynb",
      "provenance": []
    },
    "kernelspec": {
      "display_name": "Python 3",
      "language": "python",
      "name": "python3"
    },
    "language_info": {
      "codemirror_mode": {
        "name": "ipython",
        "version": 3
      },
      "file_extension": ".py",
      "mimetype": "text/x-python",
      "name": "python",
      "nbconvert_exporter": "python",
      "pygments_lexer": "ipython3",
      "version": "3.8.6"
    }
  },
  "nbformat": 4,
  "nbformat_minor": 0
}