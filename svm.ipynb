{
 "cells": [
  {
   "cell_type": "code",
   "execution_count": 1,
   "metadata": {},
   "outputs": [],
   "source": [
    "import random\n",
    "import math\n",
    "\n",
    "import numpy as np\n",
    "from scipy.optimize import minimize\n",
    "import matplotlib.pyplot as plt"
   ]
  },
  {
   "cell_type": "code",
   "execution_count": 3,
   "metadata": {},
   "outputs": [],
   "source": [
    "X = np.array([[1,1],[-1,-1],[1,-1],[-1,1]])\n",
    "y = np.array([[1, -1, 1, -1]])"
   ]
  },
  {
   "cell_type": "code",
   "execution_count": 10,
   "metadata": {},
   "outputs": [],
   "source": [
    "N_A = 20\n",
    "N_B = 20\n",
    "N = N_A + N_B"
   ]
  },
  {
   "cell_type": "code",
   "execution_count": 11,
   "metadata": {},
   "outputs": [
    {
     "name": "stdout",
     "output_type": "stream",
     "text": [
      "[[ 1.60530685  0.47000708]\n",
      " [ 0.39599905 -0.59524588]\n",
      " [ 0.01976168 -0.14192973]\n",
      " [-1.29888298  0.29523916]\n",
      " [-1.62901603  0.51206963]\n",
      " [-0.13613928 -0.34600737]\n",
      " [-0.06229804 -0.21954296]\n",
      " [-0.1039878  -0.62083703]\n",
      " [ 1.38445029  0.41919369]\n",
      " [ 1.37934211  0.45122954]\n",
      " [-1.46364522  0.41666381]\n",
      " [ 0.22986751 -0.52425833]\n",
      " [-1.39544285  0.76843097]\n",
      " [-0.10886553 -1.11029369]\n",
      " [-0.38255319  0.16371209]\n",
      " [-1.18829575  0.75119882]\n",
      " [ 1.55048275  0.20749081]\n",
      " [ 1.54420065  0.431907  ]\n",
      " [-1.31827934  0.33181972]\n",
      " [-1.7062014   0.40333762]\n",
      " [ 1.81110878  0.31334002]\n",
      " [ 0.12302518 -0.46608282]\n",
      " [ 1.52239792  0.26160959]\n",
      " [-0.34055214 -0.56069123]\n",
      " [-1.10431825  0.88348894]\n",
      " [-0.37895778 -1.12612634]\n",
      " [ 0.47117391 -0.67563196]\n",
      " [ 0.65440622 -0.02587165]\n",
      " [-0.17180772  0.27438109]\n",
      " [-0.0036305  -0.83768936]\n",
      " [-0.4134639  -1.24117883]\n",
      " [ 1.49982076  0.29680152]\n",
      " [ 0.20774096 -0.85093807]\n",
      " [-0.8803268   0.07511198]\n",
      " [ 1.19033174  0.55305455]\n",
      " [-1.74143626  0.57496807]\n",
      " [-1.39041391  0.66902969]\n",
      " [ 1.70706875  0.61615068]\n",
      " [-0.2408442  -0.52624559]\n",
      " [ 0.09273223 -0.26582511]]\n"
     ]
    },
    {
     "data": {
      "image/png": "[encoded data removed]",
      "text/plain": [
       "<Figure size 432x288 with 1 Axes>"
      ]
     },
     "metadata": {
      "needs_background": "light"
     },
     "output_type": "display_data"
    }
   ],
   "source": [
    "np.random.seed(19)\n",
    "\n",
    "classA = np. concatenate ((\n",
    "                            np.random.randn(N_A//2,2)*0.2+[1.5, 0.5], \n",
    "                            np.random.randn(N_A//2,2)*0.2+[-1.5, 0.5]\n",
    ")) \n",
    "classB = np.random.randn(N_B,2)*0.5+[0.0,-0.5]\n",
    "\n",
    "ax = plt.gca()\n",
    "ax.scatter([p[0] for p in classA], [p[1] for p in classA], color='#993399')\n",
    "ax.scatter([p[0] for p in classB], [p[1] for p in classB], color='#009999')\n",
    "\n",
    "sample_limits = [ax.get_xlim(),ax.get_ylim()]\n",
    "\n",
    "X = np.concatenate((classA, classB)) \n",
    "y = np.concatenate((np.ones(classA.shape[0]),-np.ones(classB.shape[0])))\n",
    "\n",
    "def permute(X,y):\n",
    "    '''Reorder observations randomly'''\n",
    "    permute = list(range(len(X)))\n",
    "    random.shuffle(permute)\n",
    "    permuted_inputs = X[permute,:]\n",
    "    permuted_targets = np.array([y[permute]])\n",
    "    return permuted_inputs, permuted_targets\n",
    "\n",
    "X, y = permute(X,y)\n",
    "\n",
    "print(X)\n"
   ]
  },
  {
   "cell_type": "code",
   "execution_count": 12,
   "metadata": {},
   "outputs": [],
   "source": [
    "# Kernel function\n",
    "\n",
    "def kernel(x,y):\n",
    "    '''Input vectors x,y'''\n",
    "    #return (1+np.dot(x,y))**5\n",
    "    #return np.exp(-np.linalg.norm(x-y)**2 / 2*4)\n",
    "    return np.dot(x,y)\n",
    "\n",
    "def kernel_matrix(x_vectors):\n",
    "    '''Output matrix M_ij = K(x_i,x_j)'''\n",
    "    N = len(x_vectors)\n",
    "    K = np.zeros((N,N))\n",
    "    for i in range(N):\n",
    "        for j in range(N):\n",
    "            K[i,j] = kernel(x_vectors[i], x_vectors[j])       \n",
    "    return K\n",
    "\n",
    "def precomputed(x_vectors,t_vector):\n",
    "    '''Kernel with indicator values'''\n",
    "    t_outer = t_vector.T@t_vector\n",
    "    x_outer = kernel_matrix(x_vectors)\n",
    "    return np.multiply(t_outer,x_outer)\n",
    "\n",
    "P = precomputed(X,y)\n",
    "\n",
    "def minimand(alpha):\n",
    "    '''The function that is supposed to be minimized.\n",
    "    Input: array alpha'''\n",
    "    return 0.5*alpha.T@P@alpha-alpha.T@np.ones(N)\n",
    "\n",
    "    "
   ]
  },
  {
   "cell_type": "code",
   "execution_count": 13,
   "metadata": {},
   "outputs": [
    {
     "name": "stdout",
     "output_type": "stream",
     "text": [
      "True\n",
      "[7.20387103e-14 0.00000000e+00 2.30142764e-15 1.00000000e+01\n",
      " 3.91448587e-14 6.84860891e-13 4.78205996e-13 0.00000000e+00\n",
      " 0.00000000e+00 1.40121376e-13 0.00000000e+00 0.00000000e+00\n",
      " 0.00000000e+00 0.00000000e+00 1.00000000e+01 0.00000000e+00\n",
      " 1.00000000e+01 1.59358792e-14 1.00000000e+01 3.35163440e+00\n",
      " 0.00000000e+00 0.00000000e+00 5.18615061e+00 0.00000000e+00\n",
      " 0.00000000e+00 0.00000000e+00 0.00000000e+00 8.53778502e+00\n",
      " 1.00000000e+01 0.00000000e+00 0.00000000e+00 0.00000000e+00\n",
      " 0.00000000e+00 1.00000000e+01 0.00000000e+00 3.21851333e-13\n",
      " 6.08676805e-14 3.80919322e-14 0.00000000e+00 8.06468115e-13]\n"
     ]
    },
    {
     "data": {
      "text/plain": [
       "<matplotlib.collections.PathCollection at 0x11d202760>"
      ]
     },
     "execution_count": 13,
     "metadata": {},
     "output_type": "execute_result"
    },
    {
     "data": {
      "image/png": "[encoded data removed]",
      "text/plain": [
       "<Figure size 432x288 with 1 Axes>"
      ]
     },
     "metadata": {
      "needs_background": "light"
     },
     "output_type": "display_data"
    }
   ],
   "source": [
    "C = 10\n",
    "zerofun = lambda alpha: np.dot(alpha,y.T)\n",
    "solution = minimize(minimand, # objective\n",
    "                    np.zeros(N), # start\n",
    "                    bounds=[(0, C) for _ in range(N)],\n",
    "                    constraints={'type':'eq', 'fun': zerofun})\n",
    "multipliers = solution['x']\n",
    "print(solution['success'])\n",
    "print(multipliers)\n",
    "plt.title(r\"Lagrange multiplier values ($\\alpha$)\")\n",
    "plt.xlabel(\"List index\")\n",
    "plt.ylabel(r\"$\\alpha$\")\n",
    "plt.ylim([-0.1,1.1])\n",
    "plt.scatter(range(N),multipliers)"
   ]
  },
  {
   "cell_type": "code",
   "execution_count": 14,
   "metadata": {},
   "outputs": [
    {
     "data": {
      "image/png": "[encoded data removed]",
      "text/plain": [
       "<Figure size 432x288 with 1 Axes>"
      ]
     },
     "metadata": {
      "needs_background": "light"
     },
     "output_type": "display_data"
    },
    {
     "name": "stdout",
     "output_type": "stream",
     "text": [
      "[ 0.          0.          0.         10.          0.          0.\n",
      "  0.          0.          0.          0.          0.          0.\n",
      "  0.          0.         10.          0.         10.          0.\n",
      " 10.          3.3516344   0.          0.          5.18615061  0.\n",
      "  0.          0.          0.          8.53778502 10.          0.\n",
      "  0.          0.          0.         10.          0.          0.\n",
      "  0.          0.          0.          0.        ]\n"
     ]
    },
    {
     "data": {
      "text/plain": [
       "<matplotlib.collections.PathCollection at 0x11d52e730>"
      ]
     },
     "execution_count": 14,
     "metadata": {},
     "output_type": "execute_result"
    },
    {
     "data": {
      "image/png": "[encoded data removed]",
      "text/plain": [
       "<Figure size 432x288 with 1 Axes>"
      ]
     },
     "metadata": {
      "needs_background": "light"
     },
     "output_type": "display_data"
    }
   ],
   "source": [
    "plt.title(r\"Nonzero ($\\alpha$) values\")\n",
    "plt.xlabel(\"List index\")\n",
    "plt.ylabel(r\"$\\alpha$\")\n",
    "plt.ylim([-0.1,1.1])\n",
    "\n",
    "nonzero_indices = []\n",
    "for idx, val in enumerate(multipliers):\n",
    "    if val > 10**-5:\n",
    "        nonzero_indices.append(idx)\n",
    "        plt.scatter(idx, val)\n",
    "    else:    \n",
    "        multipliers[idx] = 0\n",
    "plt.show()\n",
    "print(multipliers)\n",
    "        \n",
    "support_vectors = np.take(X, nonzero_indices, axis=0)\n",
    "plt.scatter(X[:,0],X[:,1],color='k')\n",
    "plt.scatter(support_vectors[:,0],support_vectors[:,1],color='#ff5c33')\n",
    "\n"
   ]
  },
  {
   "cell_type": "code",
   "execution_count": 15,
   "metadata": {},
   "outputs": [
    {
     "name": "stdout",
     "output_type": "stream",
     "text": [
      "0.4632912592756373\n"
     ]
    }
   ],
   "source": [
    "def threshold(sv_idx):\n",
    "    '''Calculates b value'''\n",
    "    return sum([multipliers[i]*y[0][i]*kernel(X[sv_idx],X[i]) for i in range(N)])-y[0][sv_idx]\n",
    "\n",
    "\n",
    "thres = threshold(nonzero_indices[0])\n",
    "print(thres)\n",
    "\n",
    "\n",
    "def indicator(test_vector, threshold):\n",
    "    return sum([multipliers[i]*y[0][i]*kernel(test_vector, X[i]) for i in range(N)]) - threshold\n"
   ]
  },
  {
   "cell_type": "code",
   "execution_count": 16,
   "metadata": {},
   "outputs": [
    {
     "name": "stdout",
     "output_type": "stream",
     "text": [
      "2.856912737871882\n",
      "-4.013028239067117\n",
      "-1.3298238894549481\n",
      "1.0\n",
      "2.242927399183948\n",
      "-2.6255063928743456\n",
      "-1.8287291044042395\n",
      "-4.305090692086875\n",
      "2.4852000231851665\n",
      "2.6806158885600393\n",
      "1.7014615423143926\n",
      "-3.621767035027678\n",
      "3.8807344499404\n",
      "-7.3130988731248765\n",
      "0.43919535728882053\n",
      "3.830751089121648\n",
      "1.2295092293751946\n",
      "2.606385240463897\n",
      "1.2194797618979116\n",
      "1.554176768244341\n",
      "1.9500292222236126\n",
      "-3.293217479148864\n",
      "1.5543813731076668\n",
      "-3.9994268410944365\n",
      "4.666049249596657\n",
      "-7.483207722398502\n",
      "-4.486557025495956\n",
      "-0.4457100960246656\n",
      "1.175868994575417\n",
      "-5.610128234949913\n",
      "-8.199272951793564\n",
      "1.7644729584517744\n",
      "-5.634502191448805\n",
      "-0.23932911341355734\n",
      "3.255138111716813\n",
      "2.598985034380595\n",
      "3.2714768662300866\n",
      "3.7821085572642428\n",
      "-3.760936532986323\n",
      "-2.0712213047924193\n",
      "0.9500000000000005\n"
     ]
    },
    {
     "data": {
      "image/png": "[encoded data removed]",
      "text/plain": [
       "<Figure size 432x288 with 1 Axes>"
      ]
     },
     "metadata": {
      "needs_background": "light"
     },
     "output_type": "display_data"
    }
   ],
   "source": [
    "y_labeled = np.zeros(N)\n",
    "score = 0\n",
    "for i in range(N):\n",
    "    y_labeled[i] = indicator(X[i],thres)\n",
    "    print(y_labeled[i])\n",
    "    if y_labeled[i] * y[0][i] > 0:\n",
    "        score += 1/N\n",
    "print(score)\n",
    "\n",
    "support_vectors = np.take(X, nonzero_indices, axis=0)\n",
    "plt.scatter(X[:,0],X[:,1],c=y)\n",
    "plt.scatter(support_vectors[:,0],support_vectors[:,1],facecolors='none', edgecolors='w')\n",
    "\n",
    "xgrid = np.linspace(-5,5)\n",
    "ygrid = np.linspace(-4,4)\n",
    "grid = np.array([[indicator([x,y],thres) for x in xgrid] for y in ygrid])\n",
    "plt.contour(xgrid, ygrid, grid, (-1.0, 0.0, 1.0), colors=('yellow', 'white', 'orange'), linewidths=(1,2,1))\n",
    "plt.xlim(sample_limits[0])\n",
    "plt.ylim(sample_limits[1])\n",
    "ax = plt.gca()\n",
    "ax.set_facecolor('black')\n",
    "plt.savefig(\"big_slack.jpg\")\n",
    "\n",
    "plt.show()"
   ]
  },
  {
   "cell_type": "code",
   "execution_count": 7,
   "metadata": {},
   "outputs": [],
   "source": [
    "class SVMachine:\n",
    "    '''Support vector machine\n",
    "    clusters from three normal distributions'''\n",
    "    def __init__(self, points_per_class=20, data=None):\n",
    "        self.N_A = points_per_class\n",
    "        self.N_B = points_per_class\n",
    "        self.N = self.N_A + self.N_B\n",
    "        \n",
    "        self.X = None\n",
    "        self.y = None\n",
    "            \n",
    "            \n",
    "    def sample_clusters(\n",
    "                        self, \n",
    "                        positions=[[1.5,0.5],[-1.5,0.5],[0.0,-0.5]], \n",
    "                        sizes=[0.2,0.2,0.5]\n",
    "                        ):\n",
    "        \n",
    "        np.random.seed(19)\n",
    "        classA = np. concatenate ((\n",
    "                                    np.random.randn(self.N_A//2,2)*sizes[0]+positions[0], \n",
    "                                    np.random.randn(self.N_A//2,2)*sizes[1]+positions[1], \n",
    "        )) \n",
    "        classB = np.random.randn(self.N_B,2)*sizes[2]+positions[2]\n",
    "\n",
    "        X = np.concatenate((classA, classB)) \n",
    "        y = np.concatenate((np.ones(classA.shape[0]),-np.ones(classB.shape[0])))\n",
    "\n",
    "        def permute(X,y):\n",
    "            '''Reorder observations randomly'''\n",
    "            permute = list(range(len(X)))\n",
    "            random.shuffle(permute)\n",
    "            permuted_inputs = X[permute,:]\n",
    "            permuted_targets = np.array([y[permute]])\n",
    "            return permuted_inputs, permuted_targets\n",
    "\n",
    "        self.X, self.y = permute(X,y)\n",
    "\n",
    "    def plot_clusters(self):\n",
    "        ax = plt.gca()\n",
    "        ax.scatter([p[0] for p in classA], [p[1] for p in classA], color='#993399')\n",
    "        ax.scatter([p[0] for p in classB], [p[1] for p in classB], color='#009999')\n",
    "\n",
    "        self.sample_limits = [ax.get_xlim(),ax.get_ylim()]\n",
    "        return ax\n",
    "    \n",
    "    \n",
    "    def kernel(self,x,y):\n",
    "        '''Input vectors x,y'''\n",
    "        return (np.dot(x,y)+1)**3\n",
    "\n",
    "    \n",
    "    def kernel_matrix(self,x_vectors):\n",
    "        '''Output matrix M_ij = K(x_i,x_j)'''\n",
    "        N = self.N\n",
    "        K = np.zeros((N,N))\n",
    "        for i in range(N):\n",
    "            for j in range(N):\n",
    "                K[i,j] = self.kernel(x_vectors[i], x_vectors[j])       \n",
    "        return K\n",
    "\n",
    "    \n",
    "    def precomputed(self,x_vectors,t_vector):\n",
    "        '''Kernel with indicator values'''\n",
    "        t_outer = t_vector.T@t_vector\n",
    "        x_outer = self.kernel_matrix(x_vectors)\n",
    "        return np.multiply(t_outer,x_outer)\n",
    "\n",
    "\n",
    "    def minimand(self,alpha):\n",
    "        '''The function that is supposed to be minimized.\n",
    "        Input: array alpha'''\n",
    "        return 0.5*alpha.T@self.precomputed@alpha-alpha.T@np.ones(self.N)\n",
    "    \n",
    "    \n",
    "    def clean_multipliers(self):\n",
    "        nonzero_indices = []\n",
    "        for idx, val in enumerate(self.multipliers):\n",
    "            if val > 10**-5:\n",
    "                nonzero_indices.append(idx)\n",
    "            else:    \n",
    "                self.multipliers[idx] = 0\n",
    "        self.nonzero_indices = nonzero_indices\n",
    "    \n",
    "    \n",
    "    def set_threshold(self):\n",
    "        '''Calculates b value'''\n",
    "        sv_idx = self.nonzero_indices[0]\n",
    "        self.threshold = sum(\n",
    "                            [self.multipliers[i]*self.y[0][i]*self.kernel(self.X[sv_idx],self.X[i]) \n",
    "                             for i in range(self.N)]\n",
    "                            ) - self.y[0][sv_idx]\n",
    "\n",
    "        \n",
    "    def indicator(self,test_vector):\n",
    "        return sum([self.multipliers[i]*self.y[0][i]*self.kernel(test_vector, self.X[i]) \n",
    "                    for i in range(self.N)]) - self.threshold\n",
    "    \n",
    "    \n",
    "    def run_machine(self, C=None):\n",
    "        if self.X is None and self.y is None:\n",
    "            print('hi')\n",
    "            self.sample_clusters()\n",
    "            \n",
    "        self.precomputed = self.precomputed(self.X,self.y)\n",
    "        zerofun = lambda alpha: np.dot(alpha,self.y.T)\n",
    "        solution = minimize(self.minimand, # objective\n",
    "                            np.zeros(self.N), # start\n",
    "                            bounds=[(0, C) for _ in range(self.N)],\n",
    "                            constraints={'type':'eq', 'fun': zerofun})\n",
    "        self.multipliers = solution['x']\n",
    "        self.clean_multipliers()\n",
    "        self.set_threshold()\n",
    "        \n",
    "        self.y_labeled = np.zeros(self.N)\n",
    "        for i in range(self.N):\n",
    "            self.y_labeled[i] = self.indicator(self.X[i])\n",
    "            \n",
    "    def get_accuracy(self):\n",
    "        score = 0\n",
    "        print(self.y)\n",
    "        for i in range(self.N):\n",
    "            print(self.y_labeled[i])\n",
    "            print(self.y[0][i])\n",
    "            if self.y_labeled[i] * self.y[0][i] > 0:\n",
    "                score += 1\n",
    "        return score/self.N\n",
    "        "
   ]
  },
  {
   "cell_type": "code",
   "execution_count": 8,
   "metadata": {},
   "outputs": [
    {
     "name": "stdout",
     "output_type": "stream",
     "text": [
      "[[ 1.  1.  1. -1.  1.  1.  1.  1. -1.  1. -1.  1.  1. -1. -1.  1.  1. -1.\n",
      "  -1. -1. -1.  1. -1. -1. -1. -1. -1. -1. -1.  1. -1. -1. -1.  1. -1.  1.\n",
      "   1.  1.  1.  1.]]\n",
      "3.325412584725695\n",
      "1.0\n",
      "1.0\n",
      "1.0\n",
      "4.768464969066919\n",
      "1.0\n",
      "-2.0238210583912517\n",
      "-1.0\n",
      "0.9997599516417108\n",
      "1.0\n",
      "1.5532789983883557\n",
      "1.0\n",
      "1.593127632834793\n",
      "1.0\n",
      "3.6595265494343105\n",
      "1.0\n",
      "-2.150822192330086\n",
      "-1.0\n",
      "1.182286865529972\n",
      "1.0\n",
      "-2.0024828817185574\n",
      "-1.0\n",
      "3.899235236501917\n",
      "1.0\n",
      "2.8009809962652645\n",
      "1.0\n",
      "-1.802819386437155\n",
      "-1.0\n",
      "-2.32104555247395\n",
      "-1.0\n",
      "1.4513558098435233\n",
      "1.0\n",
      "2.0967500085552317\n",
      "1.0\n",
      "-2.2220753885883786\n",
      "-1.0\n",
      "-1.8595012412320808\n",
      "-1.0\n",
      "-2.07183627061765\n",
      "-1.0\n",
      "-1.1952433087687424\n",
      "-1.0\n",
      "1.3980374087851817\n",
      "1.0\n",
      "-1.0002348894144975\n",
      "-1.0\n",
      "-1.8384811605442366\n",
      "-1.0\n",
      "-2.0867812739269915\n",
      "-1.0\n",
      "-2.228078390283317\n",
      "-1.0\n",
      "-2.45421865954407\n",
      "-1.0\n",
      "-1.8014760352351264\n",
      "-1.0\n",
      "-2.090797236070199\n",
      "-1.0\n",
      "1.5026527044084697\n",
      "1.0\n",
      "-2.414340519115242\n",
      "-1.0\n",
      "-2.229560326323382\n",
      "-1.0\n",
      "-2.0292518727901556\n",
      "-1.0\n",
      "1.5884369453382932\n",
      "1.0\n",
      "-2.2243843617653383\n",
      "-1.0\n",
      "2.4227552232042986\n",
      "1.0\n",
      "2.715961659903478\n",
      "1.0\n",
      "2.235924083410993\n",
      "1.0\n",
      "2.446186343530305\n",
      "1.0\n",
      "1.2233519979532175\n",
      "1.0\n"
     ]
    },
    {
     "data": {
      "text/plain": [
       "1.0"
      ]
     },
     "execution_count": 8,
     "metadata": {},
     "output_type": "execute_result"
    }
   ],
   "source": [
    "svm = SVMachine()\n",
    "svm.sample_clusters(sizes=[0.2,0.2,0.5])\n",
    "svm.run_machine()\n",
    "svm.get_accuracy()"
   ]
  },
  {
   "cell_type": "code",
   "execution_count": null,
   "metadata": {},
   "outputs": [],
   "source": []
  },
  {
   "cell_type": "code",
   "execution_count": null,
   "metadata": {},
   "outputs": [],
   "source": []
  },
  {
   "cell_type": "code",
   "execution_count": null,
   "metadata": {},
   "outputs": [],
   "source": []
  },
  {
   "cell_type": "code",
   "execution_count": null,
   "metadata": {},
   "outputs": [],
   "source": []
  }
 ],
 "metadata": {
  "kernelspec": {
   "display_name": "Python 3",
   "language": "python",
   "name": "python3"
  },
  "language_info": {
   "codemirror_mode": {
    "name": "ipython",
    "version": 3
   },
   "file_extension": ".py",
   "mimetype": "text/x-python",
   "name": "python",
   "nbconvert_exporter": "python",
   "pygments_lexer": "ipython3",
   "version": "3.8.5"
  }
 },
 "nbformat": 4,
 "nbformat_minor": 4
}
